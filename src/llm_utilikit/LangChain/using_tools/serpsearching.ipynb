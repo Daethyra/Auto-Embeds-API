{
 "cells": [
  {
   "cell_type": "code",
   "execution_count": 65,
   "metadata": {},
   "outputs": [],
   "source": [
    "%pip install -U langchain google-search-results numexpr langsmith langchainhub"
   ]
  },
  {
   "cell_type": "code",
   "execution_count": 67,
   "metadata": {},
   "outputs": [],
   "source": [
    "import os\n",
    "from uuid import uuid4\n",
    "\n",
    "unique_id = uuid4().hex[0:8]\n",
    "os.environ[\"LANGSMITH_TRACING_V2\"] = \"true\"\n",
    "os.environ[\"LANGCHAIN_PROJECT\"] = \"serpsearchingtooltesting\"\n",
    "os.environ[\"LANGCHAIN_ENDPOINT\"] = \"https://api.smith.langchain.com\"\n",
    "os.environ[\"LANGCHAIN_API_KEY\"] = \"\"\n",
    "os.environ[\"SERPAPI_API_KEY\"] = \"\"\n",
    "# We will use OpenAI as the Agent\n",
    "os.environ[\"OPENAI_API_KEY\"] = \"sk-\""
   ]
  },
  {
   "cell_type": "code",
   "execution_count": null,
   "metadata": {},
   "outputs": [],
   "source": [
    "from langsmith import Client\n",
    "\n",
    "# Initialize the LangSmith client\n",
    "client = Client()"
   ]
  },
  {
   "cell_type": "code",
   "execution_count": null,
   "metadata": {},
   "outputs": [],
   "source": [
    "from operator import itemgetter\n",
    "\n",
    "from langchain import hub\n",
    "from langchain.agents import AgentExecutor, load_tools\n",
    "from langchain.agents.format_scratchpad import format_to_openai_functions\n",
    "from langchain.agents.output_parsers import OpenAIFunctionsAgentOutputParser\n",
    "from langchain.chat_models import ChatOpenAI\n",
    "from langchain.tools.render import format_tool_to_openai_function\n",
    "\n",
    "llm = ChatOpenAI(model_name=\"gpt-3.5-turbo-1106\", temperature=0.2)\n",
    "tools = load_tools([\"serpapi\", \"llm-math\"], llm=llm)\n",
    "llm_with_tools = llm.bind(functions=[format_tool_to_openai_function(t) for t in tools])\n",
    "\n",
    "# https://smith.langchain.com/hub/daethyra/rag-prompt\n",
    "prompt = hub.pull(\"wfh/agent-lcel-prompt\")"
   ]
  },
  {
   "cell_type": "code",
   "execution_count": null,
   "metadata": {},
   "outputs": [],
   "source": [
    "def format_scratchpad(x: dict) -> str:\n",
    "    return format_to_openai_functions(x[\"intermediate_steps\"])\n",
    "\n",
    "def get_chat_history(x: dict) -> list:\n",
    "    return x.get(\"chat_history\", [])"
   ]
  },
  {
   "cell_type": "code",
   "execution_count": null,
   "metadata": {},
   "outputs": [],
   "source": [
    "# Construct the Agent\n",
    "agent = (\n",
    "    {\n",
    "        \"input\": itemgetter(\"input\"),\n",
    "        \"agent_scratchpad\": format_scratchpad,\n",
    "        \"chat_history\": get_chat_history,\n",
    "    }\n",
    "    | prompt\n",
    "    | llm_with_tools\n",
    "    | OpenAIFunctionsAgentOutputParser()\n",
    ").with_config(run_name=\"Agent\")\n",
    "\n",
    "# Define the Agent Executor\n",
    "agent_executor = AgentExecutor(\n",
    "    agent=agent,\n",
    "    tools=tools,\n",
    ")"
   ]
  },
  {
   "cell_type": "code",
   "execution_count": null,
   "metadata": {},
   "outputs": [
    {
     "data": {
      "text/plain": [
       "[{'input': \"What's the distance from Earth to the moon in miles multiplied by 77?\",\n",
       "  'output': 'The distance from Earth to the moon is approximately 238,855 miles. When multiplied by 77, the result is 18,399,235 miles.'},\n",
       " ValueError('LLMMathChain._evaluate(\"\\ndistance from Earth to Mars in miles - distance from Earth to the moon in miles\\n\") raised error: invalid syntax (<expr>, line 1). Please try again with a valid numerical expression'),\n",
       " {'input': 'How many stars are there in the Milky Way multiplied by the number of planets in our solar system',\n",
       "  'output': 'There are approximately 800 billion stars in the Milky Way multiplied by the number of planets in our solar system.'},\n",
       " {'input': 'How old is the Sun in years multiplied by the number of planets in our solar system',\n",
       "  'output': 'The age of the Sun in years multiplied by the number of planets in our solar system is 36,800,000,000 years.'},\n",
       " ValueError('unknown format from LLM: Sorry, I cannot solve this question as it is not a mathematical problem with a specific numerical answer.'),\n",
       " {'input': 'What is the number of stars in the Andromeda Galaxy divided by the number of stars in the Milky Way?',\n",
       "  'output': 'The number of stars in the Andromeda Galaxy divided by the number of stars in the Milky Way is 10.'},\n",
       " {'input': 'How much larger is the biggest known star compared to the Sun?',\n",
       "  'output': 'The biggest known star, UY Scuti, has a radius around 1,700 times larger than the radius of the Sun. This means that the volume of almost 5 billion suns could fit inside a sphere the size of UY Scuti.'},\n",
       " {'input': 'What is the surface area of Earth in feet divided by the number of people on Earth?',\n",
       "  'output': 'The surface area of Earth in feet divided by the number of people on Earth is approximately 0.0249 square feet per person.'},\n",
       " {'input': 'How big is a black hole in miles divided by the diameter of Earth in miles?',\n",
       "  'output': 'The size of a black hole, in miles, divided by the diameter of Earth, in miles, is approximately 46,925.'},\n",
       " {'input': 'How much larger is the biggest planet compared to the smallest planet?',\n",
       "  'output': \"The largest planet in our solar system is Jupiter, and the smallest planet is Mercury. Jupiter is more than ten times larger than Earth, while Mercury has a diameter about 40 percent of Earth's size. Therefore, Jupiter is significantly larger than Mercury.\"}]"
      ]
     },
     "execution_count": 64,
     "metadata": {},
     "output_type": "execute_result"
    }
   ],
   "source": [
    "inputs = [\n",
    "    \"What's the distance from Earth to the moon in miles multiplied by 77?\",\n",
    "    \"How much further away is Mars from Earth than Earth to the moon?\",\n",
    "    \"How many stars are there in the Milky Way multiplied by the number of planets in our solar system\",\n",
    "    \"How old is the Sun in years multiplied by the number of planets in our solar system\",\n",
    "    \"How many more stars are there in our galaxy than in our solar system?\",\n",
    "    \"What is the number of stars in the Andromeda Galaxy divided by the number of stars in the Milky Way?\",\n",
    "    \"How much larger is the biggest known star compared to the Sun?\",\n",
    "    \"What is the surface area of Earth in feet divided by the number of people on Earth?\",\n",
    "    \"How big is a black hole in miles divided by the diameter of Earth in miles?\",\n",
    "    \"How much larger is the biggest planet compared to the smallest planet?\"\n",
    "]\n",
    "\n",
    "results = agent_executor.batch([{\"input\": x} for x in inputs], return_exceptions=True)\n",
    "results"
   ]
  }
 ],
 "metadata": {
  "kernelspec": {
   "display_name": "Python 3",
   "language": "python",
   "name": "python3"
  },
  "language_info": {
   "codemirror_mode": {
    "name": "ipython",
    "version": 3
   },
   "file_extension": ".py",
   "mimetype": "text/x-python",
   "name": "python",
   "nbconvert_exporter": "python",
   "pygments_lexer": "ipython3",
   "version": "3.10.11"
  }
 },
 "nbformat": 4,
 "nbformat_minor": 2
}
